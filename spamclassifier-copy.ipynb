{
 "cells": [
  {
   "cell_type": "code",
   "execution_count": 1,
   "id": "cb97285e",
   "metadata": {},
   "outputs": [],
   "source": [
    "import numpy as np\n",
    "\n",
    "training_spam = np.loadtxt(open(\"data/training_spam.csv\"), delimiter=\",\")\n",
    "testing_spam = np.loadtxt(open(\"data/testing_spam.csv\"), delimiter=\",\")\n",
    "\n",
    "def format_training_data():\n",
    "    \n",
    "    #  Method to return a list of values taken from the first column (labels) and a list of all values from the second\n",
    "    #  column to the end of the training data list (features).\n",
    "\n",
    "    training_labels = training_spam[:, 0].astype(int)\n",
    "    training_features = training_spam[:, 1:].astype(int)\n",
    "\n",
    "    return training_labels, training_features\n",
    "\n",
    "\n",
    "class SpamClassifier:\n",
    "    def __init__(self, k):\n",
    "        self.k = k\n",
    "\n",
    "    def _make_prediction(self, email_features):\n",
    "\n",
    "        #  Finds the Euclidean distance from the query point to each data point in training_features to find the closest\n",
    "        #  neighbour.\n",
    "        \n",
    "        training_labels, training_features = format_training_data()\n",
    "\n",
    "        distance = np.zeros(training_features.shape[0])  # Return a new array of zeros given the shape of training_features\n",
    "\n",
    "        #  Loop over every feature in training_features, updating the distance point where the query point matches\n",
    "        for i, query_point in enumerate(training_features):\n",
    "            total = 0\n",
    "            for dimension in range(0, query_point.shape[0]):\n",
    "                total += (query_point[dimension] - email_features[dimension]) ** 2\n",
    "            distance[i] = np.sqrt(total)\n",
    "\n",
    "        #  Find the data points with the shortest distances and sort to find matching labels\n",
    "        sorted_points = np.argsort(distance)\n",
    "        k_closest_points = sorted_points[:self.k]\n",
    "        k_closest_labels = training_labels[k_closest_points]\n",
    "\n",
    "        #  Find and return the most common labels and determine whether spam or ham\n",
    "        votes_for_spam = np.count_nonzero(k_closest_labels == 1)\n",
    "\n",
    "        if votes_for_spam > self.k / 2:\n",
    "            return 1\n",
    "        else:\n",
    "            return 0\n",
    "\n",
    "    def predict(self, test_data):\n",
    "        \n",
    "        predictions = []\n",
    "        \n",
    "        #  Loop over each email classification in test_data appending prediction calculated in _make_prediction\n",
    "        for i in range(0, test_data.shape[0]):\n",
    "            test_input = test_data[i, :]\n",
    "            predictions.append(self._make_prediction(test_input))\n",
    "        return predictions\n",
    "\n",
    "\n",
    "def create_classifier():\n",
    "    return SpamClassifier(k=3)\n",
    "\n",
    "\n",
    "classifier = create_classifier()\n"
   ]
  },
  {
   "cell_type": "code",
   "execution_count": 2,
   "id": "84725200",
   "metadata": {},
   "outputs": [
    {
     "name": "stdout",
     "output_type": "stream",
     "text": [
      "Accuracy on test data is: 0.9\n"
     ]
    }
   ],
   "source": [
    "\n",
    "testing_spam = np.loadtxt(open(\"data/testing_spam.csv\"), delimiter=\",\").astype(int)\n",
    "test_data = testing_spam[:, 1:]\n",
    "test_labels = testing_spam[:, 0]\n",
    "\n",
    "predictions = classifier.predict(test_data)\n",
    "accuracy = np.count_nonzero(predictions == test_labels)/test_labels.shape[0]\n",
    "print(f\"Accuracy on test data is: {accuracy}\")"
   ]
  }
 ],
 "metadata": {
  "kernelspec": {
   "display_name": "Python 3 (ipykernel)",
   "language": "python",
   "name": "python3"
  },
  "language_info": {
   "codemirror_mode": {
    "name": "ipython",
    "version": 3
   },
   "file_extension": ".py",
   "mimetype": "text/x-python",
   "name": "python",
   "nbconvert_exporter": "python",
   "pygments_lexer": "ipython3",
   "version": "3.9.12"
  }
 },
 "nbformat": 4,
 "nbformat_minor": 5
}
